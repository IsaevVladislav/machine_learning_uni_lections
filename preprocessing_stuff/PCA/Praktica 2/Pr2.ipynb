{
  "nbformat": 4,
  "nbformat_minor": 0,
  "metadata": {
    "colab": {
      "provenance": []
    },
    "kernelspec": {
      "name": "python3",
      "display_name": "Python 3"
    },
    "language_info": {
      "name": "python"
    }
  },
  "cells": [
    {
      "cell_type": "code",
      "execution_count": 3,
      "metadata": {
        "colab": {
          "base_uri": "https://localhost:8080/"
        },
        "id": "KQi-fLQLm-uW",
        "outputId": "a4836872-da1b-41e5-c9c7-1768e1de2b0d"
      },
      "outputs": [
        {
          "output_type": "stream",
          "name": "stdout",
          "text": [
            "\n",
            "------Досягнуте значення помилки-----\n",
            "[[ 0.00000000e+00]\n",
            " [ 0.00000000e+00]\n",
            " [-1.11022302e-16]]\n",
            "\n",
            "Порівняння виходів (у) та вихідних данних за результатами навчання (layer_3)\n",
            "[[0.45]\n",
            " [0.6 ]\n",
            " [0.35]]\n",
            "[[0.45]\n",
            " [0.6 ]\n",
            " [0.35]]\n"
          ]
        }
      ],
      "source": [
        "import numpy as np\n",
        "\n",
        "def tanh(x):\n",
        "    return np.tanh(x)\n",
        "\n",
        "def tanh_derivative(x):\n",
        "    return 1 - np.tanh(x)**2\n",
        "\n",
        "\n",
        "X = np.array([[-0.2, 0.2],\n",
        "              [0.3, 0.4],\n",
        "              [-0.1, -0.5]])\n",
        "\n",
        "y = np.array([[0.45],\n",
        "              [0.6],\n",
        "              [0.35]])\n",
        "\n",
        "weights_1 = np.random.random((2, 3)) - 0.5\n",
        "weights_2 = np.random.random((3, 3)) - 0.5\n",
        "weights_3 = np.random.random((3, 1)) - 0.5\n",
        "\n",
        "result_error = 0;\n",
        "\n",
        "num_iterations = 10000\n",
        "\n",
        "for i in range(num_iterations):\n",
        "\n",
        "    layer_1 = tanh(np.dot(X, weights_1))\n",
        "    layer_2 = tanh(np.dot(layer_1, weights_2))\n",
        "    layer_3 = tanh(np.dot(layer_2, weights_3))\n",
        "\n",
        "\n",
        "    error = y - layer_3\n",
        "\n",
        "    layer_3_gradient = error * tanh_derivative(layer_3)\n",
        "    layer_2_gradient = layer_3_gradient.dot(weights_3.T) * tanh_derivative(layer_2)\n",
        "    layer_1_gradient = layer_2_gradient.dot(weights_2.T) * tanh_derivative(layer_1)\n",
        "\n",
        "    weights_3 += layer_2.T.dot(layer_3_gradient)\n",
        "    weights_2 += layer_1.T.dot(layer_2_gradient)\n",
        "    weights_1 += X.T.dot(layer_1_gradient)\n",
        "\n",
        "    result_error = error\n",
        "    \n",
        "print(\"\")\n",
        "\n",
        "print(\"------Досягнуте значення помилки-----\")\n",
        "\n",
        "print(result_error)\n",
        "print(\"\")\n",
        "\n",
        "print(\"Порівняння виходів (у) та вихідних данних за результатами навчання (layer_3)\")\n",
        "print(y)\n",
        "print(layer_3)"
      ]
    }
  ]
}