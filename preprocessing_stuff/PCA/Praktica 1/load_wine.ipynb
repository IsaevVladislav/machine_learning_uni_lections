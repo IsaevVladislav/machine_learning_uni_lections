{
  "nbformat": 4,
  "nbformat_minor": 0,
  "metadata": {
    "colab": {
      "provenance": []
    },
    "kernelspec": {
      "name": "python3",
      "display_name": "Python 3"
    },
    "language_info": {
      "name": "python"
    }
  },
  "cells": [
    {
      "cell_type": "code",
      "execution_count": 7,
      "metadata": {
        "colab": {
          "base_uri": "https://localhost:8080/",
          "height": 367
        },
        "id": "nc87QnSSl1_C",
        "outputId": "988a441b-70e8-48a0-be50-157a5c0ddfc1"
      },
      "outputs": [
        {
          "output_type": "stream",
          "name": "stderr",
          "text": [
            "<ipython-input-7-eb12b25cd862>:46: UserWarning: *c* argument looks like a single numeric RGB or RGBA sequence, which should be avoided as value-mapping will have precedence in case its length matches with *x* & *y*.  Please use the *color* keyword-argument or provide a 2D array with a single row if you intend to specify the same RGB or RGBA value for all points.\n",
            "  plt.scatter(pten_cluster_entries_1[cl_inx][0], pten_cluster_entries_1[cl_inx][1], s=10, c=np.random.rand(3,),\n"
          ]
        },
        {
          "output_type": "display_data",
          "data": {
            "text/plain": [
              "<Figure size 432x288 with 1 Axes>"
            ],
            "image/png": "[encoded data removed]"
          },
          "metadata": {
            "needs_background": "light"
          }
        },
        {
          "output_type": "execute_result",
          "data": {
            "text/plain": [
              "<function sklearn.datasets._base.load_wine(*, return_X_y=False, as_frame=False)>"
            ]
          },
          "metadata": {},
          "execution_count": 7
        }
      ],
      "source": [
        "from sklearn.datasets import load_wine\n",
        "import numpy as np\n",
        "import matplotlib.pyplot as plt\n",
        "\n",
        "data = load_wine()\n",
        "x_data = data.data\n",
        "y_data = data.target\n",
        "\n",
        "def pca_own_realization(X, n_components):\n",
        "    # 1. Standardize the data\n",
        "    X_std = (X - np.mean(X, axis=0)) / np.std(X, axis=0)\n",
        "\n",
        "    # 2. Compute the covariance matrix\n",
        "    cov_mat = np.cov(X_std, rowvar=False)\n",
        "\n",
        "    # 3. Compute the eigenvalues and eigenvectors of the covariance matrix\n",
        "    eigenvalues, eigenvectors = np.linalg.eig(cov_mat)\n",
        "\n",
        "    # 4. Sort the eigenvalues in decreasing order and choose the top k eigenvectors\n",
        "    idx = np.argsort(eigenvalues)[::-1][:n_components]\n",
        "    eigenvectors = eigenvectors[:, idx]\n",
        "\n",
        "    # 5. Project the data onto the top k eigenvectors\n",
        "    X_pca = np.dot(X_std, eigenvectors)\n",
        "\n",
        "    # 7. Calculate explained_variance\n",
        "    explained_variance = eigenvalues / np.sum(eigenvalues)\n",
        "\n",
        "    return X_pca, explained_variance\n",
        "\n",
        "x_trans_data, ev = pca_own_realization(x_data, n_components=2)\n",
        "\n",
        "plt.title('PCA transformed data (2 principal components)')\n",
        "\n",
        "pten_cluster_entries_1 = []\n",
        "for cl in np.unique(y_data):\n",
        "    pvec_cluster_entries_axis_0 = []\n",
        "    pvec_cluster_entries_axis_1 = []\n",
        "    for en in range(len(x_trans_data)):\n",
        "        if cl == y_data[en]:\n",
        "            pvec_cluster_entries_axis_0.append(x_trans_data[en][0])\n",
        "            pvec_cluster_entries_axis_1.append(x_trans_data[en][1])\n",
        "    pten_cluster_entries_1.append([pvec_cluster_entries_axis_0, pvec_cluster_entries_axis_1])\n",
        "\n",
        "for cl_inx in range(len(pten_cluster_entries_1)):\n",
        "        plt.scatter(pten_cluster_entries_1[cl_inx][0], pten_cluster_entries_1[cl_inx][1], s=10, c=np.random.rand(3,),\n",
        "                       marker='o', label=f'class {cl_inx}')\n",
        "plt.legend(loc='upper left')\n",
        "plt.xlabel(\"component_0\")\n",
        "plt.ylabel(\"component_1\")\n",
        "plt.tick_params(axis='both', which='major', labelsize=9)\n",
        "\n",
        "plt.show()\n",
        "load_wine\n"
      ]
    }
  ]
}